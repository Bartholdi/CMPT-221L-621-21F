{
 "cells": [
  {
   "cell_type": "markdown",
   "metadata": {},
   "source": [
    "# Lab Three\n",
    "---\n",
    "\n",
    "Ok for this lab we're going to reiterate a lot of the things that we went over in class.\n",
    "\n",
    "Our Goals are:\n",
    "- Understanding Variable Types\n",
    "- Defining Variables\n",
    "- Using Conditionals\n",
    "- Using Loops\n",
    "- Creating Objects\n",
    "- Writing a function\n"
   ]
  },
  {
   "cell_type": "markdown",
   "metadata": {},
   "source": [
    "# Lab Three\n",
    "---\n",
    "\n",
    "Ok for this lab we're going to reiterate a lot of the things that we went over in class.\n",
    "\n",
    "Our Goals are:\n",
    "- Understanding Variable Types\n",
    "- Defining Variables\n",
    "- Using Conditionals\n",
    "- Using Loops\n",
    "- Creating Objects\n",
    "- Writing a function\n"
   ]
  },
  {
   "cell_type": "markdown",
   "metadata": {},
   "source": [
    "## What's the difference between Null and undefined?"
   ]
  },
  {
   "cell_type": "markdown",
   "metadata": {},
   "source": [
    "Null means a variable has been specifically set as (no value = null) or it has been defined to be nothing. Undefined means it was probably never set to a value and it was never defined."
   ]
  },
  {
   "cell_type": "markdown",
   "metadata": {
    "tags": []
   },
   "source": [
    "## List the 3 Variable Types and Use Them!"
   ]
  },
  {
   "cell_type": "code",
   "execution_count": null,
   "metadata": {},
   "outputs": [
    {
     "name": "stdout",
     "output_type": "stream",
     "text": [
      "4\n",
      "[Boolean: true]\n",
      "book\n"
     ]
    }
   ],
   "source": [
    "//Numbers, booleans, strings\n",
    "\n",
    "//Number\n",
    "let number = 4;\n",
    "console.log(number);\n",
    "\n",
    "//Boolean\n",
    "let shoe = new Boolean(true);\n",
    "console.log(shoe)\n",
    "//string\n",
    "let sentence = \"book\";\n",
    "console.log(sentence);\n"
   ]
  },
  {
   "cell_type": "markdown",
   "metadata": {},
   "source": [
    "## Use an If/Else If/Else Statement and a Switch Case statement"
   ]
  },
  {
   "cell_type": "code",
   "execution_count": null,
   "metadata": {},
   "outputs": [
    {
     "name": "stdout",
     "output_type": "stream",
     "text": [
      "10 is factor\n",
      "odd\n",
      "even\n",
      "odd\n",
      "even\n",
      "odd\n",
      "even\n",
      "odd\n",
      "even\n",
      "odd\n",
      "10 is factor\n",
      "odd\n",
      "even\n",
      "odd\n",
      "even\n",
      "odd\n",
      "even\n",
      "odd\n",
      "even\n",
      "odd\n",
      "0\n",
      "1\n",
      "2\n"
     ]
    }
   ],
   "source": [
    "//If/else If/else\n",
    "for(let i = 0; i<20; i++){\n",
    "    if(i%2 == 0){\n",
    "        if(i%10 == 0){\n",
    "            console.log(\"10 is factor\");\n",
    "        }\n",
    "        else{\n",
    "            console.log(\"even\");\n",
    "        }\n",
    "    }\n",
    "    else{\n",
    "        console.log(\"odd\");\n",
    "    }\n",
    "}\n",
    "\n",
    "\n",
    "\n",
    "\n",
    "//switch case\n",
    "for(let i = 0; i<7;i++){\n",
    "    switch(i){\n",
    "        case 0:\n",
    "            console.log(\"0\");\n",
    "            break;\n",
    "        case 1:\n",
    "            console.log(\"1\");\n",
    "            break;\n",
    "        case 2:\n",
    "            console.log(\"2\");\n",
    "    }\n",
    "}"
   ]
  },
  {
   "cell_type": "markdown",
   "metadata": {},
   "source": [
    "## Use a For and a While Loop"
   ]
  },
  {
   "cell_type": "code",
   "execution_count": null,
   "metadata": {},
   "outputs": [
    {
     "name": "stdout",
     "output_type": "stream",
     "text": [
      "I love Marist\n",
      "I love Marist\n",
      "I love Marist\n",
      "I love Marist\n",
      "I love Marist\n",
      "I love Marist\n",
      "I love Marist\n",
      "I love Marist\n",
      "I love Marist\n",
      "I love Marist\n",
      "0\n",
      "1\n",
      "2\n",
      "3\n",
      "4\n",
      "5\n",
      "6\n",
      "7\n"
     ]
    },
    {
     "data": {
      "text/plain": [
       "7"
      ]
     },
     "execution_count": 27,
     "metadata": {},
     "output_type": "execute_result"
    }
   ],
   "source": [
    "//for\n",
    "for(let i = 0; i < 10; i++){\n",
    "    console.log(\"I love Marist\")\n",
    "}\n",
    "\n",
    "let index = 0;\n",
    "//while\n",
    "while(index < 8){\n",
    "    console.log(index);\n",
    "    index++;\n",
    "}\n",
    "    "
   ]
  },
  {
   "cell_type": "markdown",
   "metadata": {},
   "source": [
    "## Make an object!"
   ]
  },
  {
   "cell_type": "code",
   "execution_count": null,
   "metadata": {},
   "outputs": [
    {
     "name": "stdout",
     "output_type": "stream",
     "text": [
      "Joe\n"
     ]
    }
   ],
   "source": [
    "const person = {Fname:\"Joe\", Lname:\"Bartholdi\"};\n",
    "console.log(person.Fname);"
   ]
  },
  {
   "cell_type": "markdown",
   "metadata": {
    "tags": []
   },
   "source": [
    "## Make a function, It can do anything!"
   ]
  },
  {
   "cell_type": "code",
   "execution_count": 1,
   "metadata": {},
   "outputs": [
    {
     "name": "stdout",
     "output_type": "stream",
     "text": [
      "10\n"
     ]
    }
   ],
   "source": [
    "function addThree(a){\n",
    "    return a + 3;\n",
    "}\n",
    "console.log(addThree(7));"
   ]
  },
  {
   "cell_type": "markdown",
   "metadata": {},
   "source": [
    "## Optional: Checkout HackerRank and try a problem in Javascript"
   ]
  },
  {
   "cell_type": "code",
   "execution_count": null,
   "metadata": {},
   "outputs": [],
   "source": []
  }
 ],
 "metadata": {
  "kernelspec": {
   "display_name": "Javascript (Node.js)",
   "language": "javascript",
   "name": "javascript"
  },
  "language_info": {
   "file_extension": ".js",
   "mimetype": "application/javascript",
   "name": "javascript",
   "version": "14.17.6"
  }
 },
 "nbformat": 4,
 "nbformat_minor": 4
}
