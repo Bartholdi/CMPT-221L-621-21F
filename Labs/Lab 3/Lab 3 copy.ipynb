{
 "cells": [
  {
   "cell_type": "markdown",
   "source": [
    "# Lab Three\n",
    "---\n",
    "\n",
    "Ok for this lab we're going to reiterate a lot of the things that we went over in class.\n",
    "\n",
    "Our Goals are:\n",
    "- Understanding Variable Types\n",
    "- Defining Variables\n",
    "- Using Conditionals\n",
    "- Using Loops\n",
    "- Creating Objects\n",
    "- Writing a function\n"
   ],
   "metadata": {}
  },
  {
   "cell_type": "markdown",
   "source": [
    "# Lab Three\n",
    "---\n",
    "\n",
    "Ok for this lab we're going to reiterate a lot of the things that we went over in class.\n",
    "\n",
    "Our Goals are:\n",
    "- Understanding Variable Types\n",
    "- Defining Variables\n",
    "- Using Conditionals\n",
    "- Using Loops\n",
    "- Creating Objects\n",
    "- Writing a function\n"
   ],
   "metadata": {}
  },
  {
   "cell_type": "markdown",
   "source": [
    "## What's the difference between Null and undefined?"
   ],
   "metadata": {}
  },
  {
   "cell_type": "markdown",
   "source": [
    "Null means a variable has been specifically set as (no value = null) or it has been defined to be nothing. Undefined means it was probably never set to a value and it was never defined."
   ],
   "metadata": {}
  },
  {
   "cell_type": "markdown",
   "source": [
    "## List the 3 Variable Types and Use Them!"
   ],
   "metadata": {
    "tags": []
   }
  },
  {
   "cell_type": "code",
   "execution_count": null,
   "source": [
    "//Numbers, booleans, strings\n",
    "\n",
    "//Number\n",
    "let number = 4;\n",
    "console.log(number);\n",
    "\n",
    "//Boolean\n",
    "let shoe = new Boolean(true);\n",
    "console.log(shoe)\n",
    "//string\n",
    "let sentence = \"book\";\n",
    "console.log(sentence);\n"
   ],
   "outputs": [
    {
     "output_type": "stream",
     "name": "stdout",
     "text": [
      "4\n",
      "[Boolean: true]\n",
      "book\n"
     ]
    }
   ],
   "metadata": {}
  },
  {
   "cell_type": "markdown",
   "source": [
    "## Use an If/Else If/Else Statement and a Switch Case statement"
   ],
   "metadata": {}
  },
  {
   "cell_type": "code",
   "execution_count": null,
   "source": [
    "//If/else If/else\n",
    "for(let i = 0; i<20; i++){\n",
    "    if(i%2 == 0){\n",
    "        if(i%10 == 0){\n",
    "            console.log(\"10 is factor\");\n",
    "        }\n",
    "        else{\n",
    "            console.log(\"even\");\n",
    "        }\n",
    "    }\n",
    "    else{\n",
    "        console.log(\"odd\");\n",
    "    }\n",
    "}\n",
    "\n",
    "\n",
    "\n",
    "\n",
    "//switch case\n",
    "for(let i = 0; i<7;i++){\n",
    "    switch(i){\n",
    "        case 0:\n",
    "            console.log(\"0\");\n",
    "            break;\n",
    "        case 1:\n",
    "            console.log(\"1\");\n",
    "            break;\n",
    "        case 2:\n",
    "            console.log(\"2\");\n",
    "    }\n",
    "}"
   ],
   "outputs": [
    {
     "output_type": "stream",
     "name": "stdout",
     "text": [
      "10 is factor\n",
      "odd\n",
      "even\n",
      "odd\n",
      "even\n",
      "odd\n",
      "even\n",
      "odd\n",
      "even\n",
      "odd\n",
      "10 is factor\n",
      "odd\n",
      "even\n",
      "odd\n",
      "even\n",
      "odd\n",
      "even\n",
      "odd\n",
      "even\n",
      "odd\n",
      "0\n",
      "1\n",
      "2\n"
     ]
    }
   ],
   "metadata": {}
  },
  {
   "cell_type": "markdown",
   "source": [
    "## Use a For and a While Loop"
   ],
   "metadata": {}
  },
  {
   "cell_type": "code",
   "execution_count": null,
   "source": [
    "//for\n",
    "for(let i = 0; i < 10; i++){\n",
    "    console.log(\"I love Marist\")\n",
    "}\n",
    "\n",
    "let index = 0;\n",
    "//while\n",
    "while(index < 8){\n",
    "    console.log(index);\n",
    "    index++;\n",
    "}\n",
    "    "
   ],
   "outputs": [
    {
     "output_type": "stream",
     "name": "stdout",
     "text": [
      "I love Marist\n",
      "I love Marist\n",
      "I love Marist\n",
      "I love Marist\n",
      "I love Marist\n",
      "I love Marist\n",
      "I love Marist\n",
      "I love Marist\n",
      "I love Marist\n",
      "I love Marist\n",
      "0\n",
      "1\n",
      "2\n",
      "3\n",
      "4\n",
      "5\n",
      "6\n",
      "7\n"
     ]
    },
    {
     "output_type": "execute_result",
     "data": {
      "text/plain": [
       "7"
      ]
     },
     "metadata": {},
     "execution_count": 27
    }
   ],
   "metadata": {}
  },
  {
   "cell_type": "markdown",
   "source": [
    "## Make an object!"
   ],
   "metadata": {}
  },
  {
   "cell_type": "code",
   "execution_count": null,
   "source": [
    "const person = {Fname:\"Joe\", Lname:\"Bartholdi\"};\n",
    "console.log(person.Fname);"
   ],
   "outputs": [
    {
     "output_type": "stream",
     "name": "stdout",
     "text": [
      "Joe\n"
     ]
    }
   ],
   "metadata": {}
  },
  {
   "cell_type": "markdown",
   "source": [
    "## Make a function, It can do anything!"
   ],
   "metadata": {
    "tags": []
   }
  },
  {
   "cell_type": "code",
   "execution_count": 1,
   "source": [
    "function addThree(a){\n",
    "    return a + 3;\n",
    "}\n",
    "console.log(addThree(7));"
   ],
   "outputs": [
    {
     "output_type": "stream",
     "name": "stdout",
     "text": [
      "10\n"
     ]
    }
   ],
   "metadata": {}
  },
  {
   "cell_type": "markdown",
   "source": [
    "## Optional: Checkout HackerRank and try a problem in Javascript"
   ],
   "metadata": {}
  },
  {
   "cell_type": "code",
   "execution_count": null,
   "source": [],
   "outputs": [],
   "metadata": {}
  }
 ],
 "metadata": {
  "kernelspec": {
   "display_name": "Javascript (Node.js)",
   "language": "javascript",
   "name": "javascript"
  },
  "language_info": {
   "file_extension": ".js",
   "mimetype": "application/javascript",
   "name": "javascript",
   "version": "14.17.6"
  }
 },
 "nbformat": 4,
 "nbformat_minor": 4
}